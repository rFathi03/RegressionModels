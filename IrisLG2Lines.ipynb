{
  "nbformat": 4,
  "nbformat_minor": 0,
  "metadata": {
    "colab": {
      "provenance": []
    },
    "kernelspec": {
      "name": "python3",
      "display_name": "Python 3"
    },
    "language_info": {
      "name": "python"
    }
  },
  "cells": [
    {
      "cell_type": "code",
      "execution_count": null,
      "metadata": {
        "id": "12Rr4gCtzDaT"
      },
      "outputs": [],
      "source": [
        "from sklearn.datasets import load_iris\n",
        "from sklearn.model_selection import train_test_split\n",
        "import numpy as np\n",
        "import pandas as pd"
      ]
    },
    {
      "cell_type": "code",
      "source": [
        "# Load iris data\n",
        "iris = load_iris()\n",
        "# print(iris)\n",
        "print(iris.feature_names)\n",
        "\n"
      ],
      "metadata": {
        "id": "ns5r860kzMby",
        "colab": {
          "base_uri": "https://localhost:8080/"
        },
        "outputId": "01998200-41ba-4254-f866-f4161badc276"
      },
      "execution_count": null,
      "outputs": [
        {
          "output_type": "stream",
          "name": "stdout",
          "text": [
            "['sepal length (cm)', 'sepal width (cm)', 'petal length (cm)', 'petal width (cm)']\n"
          ]
        }
      ]
    },
    {
      "cell_type": "code",
      "source": [
        "X = iris.data\n",
        "y = iris.target # classes labels\n"
      ],
      "metadata": {
        "id": "EvmBRom7zRda"
      },
      "execution_count": null,
      "outputs": []
    },
    {
      "cell_type": "code",
      "source": [
        "# Load the iris dataset\n",
        "copy_iris = pd.DataFrame(iris.data, columns=iris.feature_names)\n",
        "\n",
        "# Add a new column named 'original_class' and copy the target value\n",
        "copy_iris['original_class'] = y\n",
        "\n",
        "print(copy_iris)\n",
        "\n",
        "# Print the modified DataFrame\n",
        "print(copy_iris['original_class'])"
      ],
      "metadata": {
        "colab": {
          "base_uri": "https://localhost:8080/"
        },
        "id": "DCU5jkDwIkLM",
        "outputId": "dceb9447-679f-437d-e546-bead1822c344"
      },
      "execution_count": null,
      "outputs": [
        {
          "output_type": "stream",
          "name": "stdout",
          "text": [
            "     sepal length (cm)  sepal width (cm)  petal length (cm)  petal width (cm)  \\\n",
            "0                  5.1               3.5                1.4               0.2   \n",
            "1                  4.9               3.0                1.4               0.2   \n",
            "2                  4.7               3.2                1.3               0.2   \n",
            "3                  4.6               3.1                1.5               0.2   \n",
            "4                  5.0               3.6                1.4               0.2   \n",
            "..                 ...               ...                ...               ...   \n",
            "145                6.7               3.0                5.2               2.3   \n",
            "146                6.3               2.5                5.0               1.9   \n",
            "147                6.5               3.0                5.2               2.0   \n",
            "148                6.2               3.4                5.4               2.3   \n",
            "149                5.9               3.0                5.1               1.8   \n",
            "\n",
            "     original_class  \n",
            "0                 0  \n",
            "1                 0  \n",
            "2                 0  \n",
            "3                 0  \n",
            "4                 0  \n",
            "..              ...  \n",
            "145               2  \n",
            "146               2  \n",
            "147               2  \n",
            "148               2  \n",
            "149               2  \n",
            "\n",
            "[150 rows x 5 columns]\n",
            "0      0\n",
            "1      0\n",
            "2      0\n",
            "3      0\n",
            "4      0\n",
            "      ..\n",
            "145    2\n",
            "146    2\n",
            "147    2\n",
            "148    2\n",
            "149    2\n",
            "Name: original_class, Length: 150, dtype: int64\n"
          ]
        }
      ]
    },
    {
      "cell_type": "code",
      "source": [
        "print(X)\n",
        "X_with_ones = np.c_[np.ones(copy_iris.shape[0]), copy_iris] # Add ones to the training data\n",
        "print(X_with_ones)"
      ],
      "metadata": {
        "id": "HzQ0Vs5Q3b5Y"
      },
      "execution_count": null,
      "outputs": []
    },
    {
      "cell_type": "code",
      "source": [
        "print(y)\n"
      ],
      "metadata": {
        "colab": {
          "base_uri": "https://localhost:8080/"
        },
        "id": "Iif6OoCt3ipp",
        "outputId": "cea9992a-c2b0-4f8a-c72b-64987ec53693"
      },
      "execution_count": null,
      "outputs": [
        {
          "output_type": "stream",
          "name": "stdout",
          "text": [
            "[0 0 0 0 0 0 0 0 0 0 0 0 0 0 0 0 0 0 0 0 0 0 0 0 0 0 0 0 0 0 0 0 0 0 0 0 0\n",
            " 0 0 0 0 0 0 0 0 0 0 0 0 0 1 1 1 1 1 1 1 1 1 1 1 1 1 1 1 1 1 1 1 1 1 1 1 1\n",
            " 1 1 1 1 1 1 1 1 1 1 1 1 1 1 1 1 1 1 1 1 1 1 1 1 1 1 2 2 2 2 2 2 2 2 2 2 2\n",
            " 2 2 2 2 2 2 2 2 2 2 2 2 2 2 2 2 2 2 2 2 2 2 2 2 2 2 2 2 2 2 2 2 2 2 2 2 2\n",
            " 2 2]\n"
          ]
        }
      ]
    },
    {
      "cell_type": "code",
      "source": [
        "# Combine C2 and C3 to class 2\n",
        "y_new23 = np.where(y == 0, 1, -1)\n",
        "print(y_new23)\n"
      ],
      "metadata": {
        "colab": {
          "base_uri": "https://localhost:8080/"
        },
        "id": "B7e8P7fQzXQB",
        "outputId": "bb158dce-b85c-4c9c-f32f-ceace6ee2912"
      },
      "execution_count": null,
      "outputs": [
        {
          "output_type": "stream",
          "name": "stdout",
          "text": [
            "[ 1  1  1  1  1  1  1  1  1  1  1  1  1  1  1  1  1  1  1  1  1  1  1  1\n",
            "  1  1  1  1  1  1  1  1  1  1  1  1  1  1  1  1  1  1  1  1  1  1  1  1\n",
            "  1  1 -1 -1 -1 -1 -1 -1 -1 -1 -1 -1 -1 -1 -1 -1 -1 -1 -1 -1 -1 -1 -1 -1\n",
            " -1 -1 -1 -1 -1 -1 -1 -1 -1 -1 -1 -1 -1 -1 -1 -1 -1 -1 -1 -1 -1 -1 -1 -1\n",
            " -1 -1 -1 -1 -1 -1 -1 -1 -1 -1 -1 -1 -1 -1 -1 -1 -1 -1 -1 -1 -1 -1 -1 -1\n",
            " -1 -1 -1 -1 -1 -1 -1 -1 -1 -1 -1 -1 -1 -1 -1 -1 -1 -1 -1 -1 -1 -1 -1 -1\n",
            " -1 -1 -1 -1 -1 -1]\n"
          ]
        }
      ]
    },
    {
      "cell_type": "code",
      "source": [
        "# Split data into training and test sets\n",
        "\n",
        "# Further split class 1 for training and testing (40 train, 10 test)\n",
        "X_train_C1, X_test_C1, y_train_C1, y_test_C1 = train_test_split(X_with_ones[y_new23 == 1], y_new23[y_new23 == 1], test_size=0.2, random_state=42)\n",
        "print(\"1st Class Dimensionalities\")\n",
        "\n",
        "print(\"Training samples shape \", X_train_C1.shape)\n",
        "print(\"Testing samples shape \", X_test_C1.shape)\n",
        "print(\"Training lables shape \", y_train_C1.shape)\n",
        "print(\"Testing lables shape \", y_test_C1.shape)\n",
        "\n",
        "# Further split class 1 for training and testing (80 train, 20 test)\n",
        "X_train_C2, X_test_C2, y_train_C2, y_test_C2 = train_test_split(X_with_ones[y_new23 == -1], y_new23[y_new23 == -1], test_size=0.2, random_state=42)\n",
        "\n",
        "print(\"================================\")\n",
        "\n",
        "print(\"2nd Class Dimensionalities\")\n",
        "print(\"Training samples shape \", X_train_C2.shape)\n",
        "print(\"Testing samples shape \", X_test_C2.shape)\n",
        "print(\"Training lables shape \", y_train_C2.shape)\n",
        "print(\"Testing lables shape \", y_test_C2.shape)\n",
        "\n"
      ],
      "metadata": {
        "colab": {
          "base_uri": "https://localhost:8080/"
        },
        "id": "isjKqjsl0IjI",
        "outputId": "c681a85d-37f0-4826-fe80-3d3bd6262199"
      },
      "execution_count": null,
      "outputs": [
        {
          "output_type": "stream",
          "name": "stdout",
          "text": [
            "1st Class Dimensionalities\n",
            "Training samples shape  (40, 6)\n",
            "Testing samples shape  (10, 6)\n",
            "Training lables shape  (40,)\n",
            "Testing lables shape  (10,)\n",
            "================================\n",
            "2nd Class Dimensionalities\n",
            "Training samples shape  (80, 6)\n",
            "Testing samples shape  (20, 6)\n",
            "Training lables shape  (80,)\n",
            "Testing lables shape  (20,)\n"
          ]
        }
      ]
    },
    {
      "cell_type": "code",
      "source": [
        "def get_original_lables(test_final):\n",
        "  original_lables = []\n",
        "  for i in range(0, len(test_final)):\n",
        "    original_lables.append(test_final[i][5])\n",
        "\n",
        "  return original_lables"
      ],
      "metadata": {
        "id": "5p9MODo8L59q"
      },
      "execution_count": null,
      "outputs": []
    },
    {
      "cell_type": "code",
      "source": [
        "\n",
        "def delete_last_column(data):\n",
        "  return data[:, :-1]  # Select all rows and all columns except the last"
      ],
      "metadata": {
        "id": "7ksWArAINt78"
      },
      "execution_count": null,
      "outputs": []
    },
    {
      "cell_type": "code",
      "source": [
        "from ctypes import sizeof\n",
        "# Combine training data for C1 and C2\n",
        "X_train_final = np.concatenate((X_train_C1, X_train_C2))\n",
        "y_train_final = np.concatenate((y_train_C1, y_train_C2))\n",
        "\n",
        "\n",
        "# Combine testing data for C1 and C2\n",
        "X_test_final = np.concatenate((X_test_C1, X_test_C2))\n",
        "y_test_final = np.concatenate((y_test_C1, y_test_C2))\n",
        "\n",
        "print(\"Training set dimensionality \", X_train_final.shape)\n",
        "print(\"Testing set dimensionality \", X_test_final.shape)\n",
        "\n",
        "y_test_original_lables = get_original_lables(X_test_final)\n"
      ],
      "metadata": {
        "colab": {
          "base_uri": "https://localhost:8080/"
        },
        "id": "NNTcXSts72LJ",
        "outputId": "8bbb08e6-a29d-4c93-be23-56524e27dba1"
      },
      "execution_count": null,
      "outputs": [
        {
          "output_type": "stream",
          "name": "stdout",
          "text": [
            "Training set dimensionality  (120, 6)\n",
            "Testing set dimensionality  (30, 6)\n"
          ]
        }
      ]
    },
    {
      "cell_type": "code",
      "source": [
        "# Delete the Last column that contains the original lables we've added to handle Dimensionality\n",
        "X_test_final = delete_last_column(X_test_final.copy())\n",
        "X_train_final = delete_last_column(X_train_final.copy())\n"
      ],
      "metadata": {
        "id": "sRMFFbDpQl5v"
      },
      "execution_count": null,
      "outputs": []
    },
    {
      "cell_type": "code",
      "source": [
        "best_fit_weight = np.linalg.inv(X_train_final.T @ X_train_final) @ X_train_final.T @ y_train_final\n",
        "print(best_fit_weight)\n"
      ],
      "metadata": {
        "colab": {
          "base_uri": "https://localhost:8080/"
        },
        "id": "vfKytwgm5uOS",
        "outputId": "1cdd65c8-8873-4951-d769-add38658de7a"
      },
      "execution_count": null,
      "outputs": [
        {
          "output_type": "stream",
          "name": "stdout",
          "text": [
            "[-0.72396059  0.12016826  0.47807312 -0.41859655 -0.16621896]\n"
          ]
        }
      ]
    },
    {
      "cell_type": "code",
      "source": [
        "# Distinguish between 1st and 2nd with 3rd classes\n",
        "\n",
        "for i, test_sample in enumerate(X_test_final):\n",
        "    predicted_class = np.dot(test_sample, best_fit_weight)\n",
        "    predicted_lable = \"class 0\"\n",
        "\n",
        "    if(predicted_class < 0):\n",
        "      predicted_lable = \"class 1 or 2\"\n",
        "\n",
        "\n",
        "    actual_class_label = y_test_final[i]  # Access the corresponding actual class label\n",
        "\n",
        "    print(\"Actual class label:\", actual_class_label)\n",
        "    print(\"Predicted class label:\", predicted_lable)\n",
        "\n",
        "    print(\"================================\")\n",
        "\n",
        "\n"
      ],
      "metadata": {
        "colab": {
          "base_uri": "https://localhost:8080/"
        },
        "id": "X4azryKo6FaB",
        "outputId": "a033614a-8eb1-48a0-ee4d-c1bba8ce1e77"
      },
      "execution_count": 216,
      "outputs": [
        {
          "output_type": "stream",
          "name": "stdout",
          "text": [
            "Actual class label: 1\n",
            "Predicted class label: class 0\n",
            "================================\n",
            "Actual class label: 1\n",
            "Predicted class label: class 0\n",
            "================================\n",
            "Actual class label: 1\n",
            "Predicted class label: class 0\n",
            "================================\n",
            "Actual class label: 1\n",
            "Predicted class label: class 0\n",
            "================================\n",
            "Actual class label: 1\n",
            "Predicted class label: class 0\n",
            "================================\n",
            "Actual class label: 1\n",
            "Predicted class label: class 0\n",
            "================================\n",
            "Actual class label: 1\n",
            "Predicted class label: class 0\n",
            "================================\n",
            "Actual class label: 1\n",
            "Predicted class label: class 0\n",
            "================================\n",
            "Actual class label: 1\n",
            "Predicted class label: class 0\n",
            "================================\n",
            "Actual class label: 1\n",
            "Predicted class label: class 0\n",
            "================================\n",
            "Actual class label: -1\n",
            "Predicted class label: class 1 or 2\n",
            "================================\n",
            "Actual class label: -1\n",
            "Predicted class label: class 1 or 2\n",
            "================================\n",
            "Actual class label: -1\n",
            "Predicted class label: class 1 or 2\n",
            "================================\n",
            "Actual class label: -1\n",
            "Predicted class label: class 1 or 2\n",
            "================================\n",
            "Actual class label: -1\n",
            "Predicted class label: class 1 or 2\n",
            "================================\n",
            "Actual class label: -1\n",
            "Predicted class label: class 1 or 2\n",
            "================================\n",
            "Actual class label: -1\n",
            "Predicted class label: class 1 or 2\n",
            "================================\n",
            "Actual class label: -1\n",
            "Predicted class label: class 1 or 2\n",
            "================================\n",
            "Actual class label: -1\n",
            "Predicted class label: class 1 or 2\n",
            "================================\n",
            "Actual class label: -1\n",
            "Predicted class label: class 1 or 2\n",
            "================================\n",
            "Actual class label: -1\n",
            "Predicted class label: class 1 or 2\n",
            "================================\n",
            "Actual class label: -1\n",
            "Predicted class label: class 1 or 2\n",
            "================================\n",
            "Actual class label: -1\n",
            "Predicted class label: class 1 or 2\n",
            "================================\n",
            "Actual class label: -1\n",
            "Predicted class label: class 1 or 2\n",
            "================================\n",
            "Actual class label: -1\n",
            "Predicted class label: class 1 or 2\n",
            "================================\n",
            "Actual class label: -1\n",
            "Predicted class label: class 1 or 2\n",
            "================================\n",
            "Actual class label: -1\n",
            "Predicted class label: class 1 or 2\n",
            "================================\n",
            "Actual class label: -1\n",
            "Predicted class label: class 1 or 2\n",
            "================================\n",
            "Actual class label: -1\n",
            "Predicted class label: class 1 or 2\n",
            "================================\n",
            "Actual class label: -1\n",
            "Predicted class label: class 1 or 2\n",
            "================================\n"
          ]
        }
      ]
    },
    {
      "cell_type": "markdown",
      "source": [
        "# Logistic Regression with 2 Lines\n",
        "\n",
        "distinguish between class **2** and **3**"
      ],
      "metadata": {
        "id": "Absfzg_OR2Ut"
      }
    },
    {
      "cell_type": "code",
      "source": [
        "class23_data = pd.DataFrame(iris.data, columns=iris.feature_names)\n",
        "\n",
        "# Drop all samples where class is 0 (target is 0)\n",
        "class23_data = class23_data.iloc[y != 0]  # Using boolean indexing for efficiency\n",
        "new_target = y[y != 0]  # Filter target based on the same condition\n",
        "\n",
        "# Adding ones to the new dataset\n",
        "X_with_ones2 = np.c_[np.ones(class23_data.shape[0]), class23_data] # Add ones to the training data"
      ],
      "metadata": {
        "id": "1D6xCcFFR73g"
      },
      "execution_count": null,
      "outputs": []
    },
    {
      "cell_type": "code",
      "source": [
        "# Combine C2 and C3 to class 2\n",
        "y_new = np.where(new_target == 1, 1, -1)\n",
        "print(y_new)\n"
      ],
      "metadata": {
        "colab": {
          "base_uri": "https://localhost:8080/"
        },
        "id": "tfb1UtQg42WV",
        "outputId": "cbdd82e6-ed30-460b-a595-0db3c4e04fb2"
      },
      "execution_count": null,
      "outputs": [
        {
          "output_type": "stream",
          "name": "stdout",
          "text": [
            "[ 1  1  1  1  1  1  1  1  1  1  1  1  1  1  1  1  1  1  1  1  1  1  1  1\n",
            "  1  1  1  1  1  1  1  1  1  1  1  1  1  1  1  1  1  1  1  1  1  1  1  1\n",
            "  1  1 -1 -1 -1 -1 -1 -1 -1 -1 -1 -1 -1 -1 -1 -1 -1 -1 -1 -1 -1 -1 -1 -1\n",
            " -1 -1 -1 -1 -1 -1 -1 -1 -1 -1 -1 -1 -1 -1 -1 -1 -1 -1 -1 -1 -1 -1 -1 -1\n",
            " -1 -1 -1 -1]\n"
          ]
        }
      ]
    },
    {
      "cell_type": "code",
      "source": [
        "# Split data into training and test sets\n",
        "\n",
        "# Further split class 2 for training and testing (40 train, 10 test)\n",
        "X_train1, X_test1, y_train1, y_test1 = train_test_split(X_with_ones2[y_new == 1], y_new[y_new == 1], test_size=0.2, random_state=42)\n",
        "print(\"1st Class Dimensionalities\")\n",
        "\n",
        "print(\"Training samples shape \", X_train1.shape)\n",
        "print(\"Testing samples shape \", X_test1.shape)\n",
        "print(\"Training lables shape \", y_train1.shape)\n",
        "print(\"Testing lables shape \", y_test1.shape)\n",
        "\n",
        "# Further split class 3 for training and testing (40 train, 10 test)\n",
        "X_train2, X_test2, y_train2, y_test2 = train_test_split(X_with_ones2[y_new == -1], y_new[y_new == -1], test_size=0.2, random_state=42)\n",
        "\n",
        "print(\"================================\")\n",
        "\n",
        "print(\"1st Class Dimensionalities\")\n",
        "print(\"Training samples shape \", X_train2.shape)\n",
        "print(\"Testing samples shape \", X_test2.shape)\n",
        "print(\"Training lables shape \", y_train2.shape)\n",
        "print(\"Testing lables shape \", y_test2.shape)\n",
        "\n",
        "# Combine training data for C2 and C3\n",
        "X_train_final2 = np.concatenate((X_train1, X_train2))\n",
        "y_train_final2 = np.concatenate((y_train1, y_train2))\n",
        "\n",
        "\n",
        "# Combine testing data for C2 and C3\n",
        "X_test_final2 = np.concatenate((X_test1, X_test2))\n",
        "y_test_final2 = np.concatenate((y_test1, y_test2))\n",
        "\n",
        "print(\"================================\")\n",
        "\n",
        "print(\"Training set dimensionality \", X_train_final2.shape)\n",
        "print(\"Testing set dimensionality \", X_test_final2.shape)"
      ],
      "metadata": {
        "colab": {
          "base_uri": "https://localhost:8080/"
        },
        "id": "YH9W_RNQ1sW_",
        "outputId": "ecb390c0-981a-464c-c7d4-786d0dc0cb01"
      },
      "execution_count": null,
      "outputs": [
        {
          "output_type": "stream",
          "name": "stdout",
          "text": [
            "1st Class Dimensionalities\n",
            "Training samples shape  (40, 5)\n",
            "Testing samples shape  (10, 5)\n",
            "Training lables shape  (40,)\n",
            "Testing lables shape  (10,)\n",
            "================================\n",
            "1st Class Dimensionalities\n",
            "Training samples shape  (40, 5)\n",
            "Testing samples shape  (10, 5)\n",
            "Training lables shape  (40,)\n",
            "Testing lables shape  (10,)\n",
            "================================\n",
            "Training set dimensionality  (80, 5)\n",
            "Testing set dimensionality  (20, 5)\n"
          ]
        }
      ]
    },
    {
      "cell_type": "code",
      "source": [
        "# Calculate the best weight for the line between class 2 and 3\n",
        "best_fit_weight2 = np.linalg.inv(X_train_final2.T @ X_train_final2) @ X_train_final2.T @ y_train_final2\n",
        "print(best_fit_weight2)\n"
      ],
      "metadata": {
        "colab": {
          "base_uri": "https://localhost:8080/"
        },
        "id": "K9e0LvOG23jJ",
        "outputId": "d13ad46d-95c8-4921-d3d9-427ce40e8fa2"
      },
      "execution_count": null,
      "outputs": [
        {
          "output_type": "stream",
          "name": "stdout",
          "text": [
            "[ 1.96071659  0.43086028  0.53402258 -0.81313496 -1.29438384]\n"
          ]
        }
      ]
    },
    {
      "cell_type": "code",
      "source": [
        "# Calculate the accuracy of the model by comparing the predictions with the actual labels\n",
        "def calculate_accuracy(actual, predicted):\n",
        "  correct_predictions = sum(a == p for a, p in zip(actual, predicted))\n",
        "  accuracy = correct_predictions/ len(actual) * 100\n",
        "\n",
        "  print(\"The accuracy of this model is \", accuracy)\n"
      ],
      "metadata": {
        "id": "pfixwYKUXj7I"
      },
      "execution_count": null,
      "outputs": []
    },
    {
      "cell_type": "code",
      "source": [
        "# Distinguish between 2nd and 3rd classes\n",
        "predictions = []\n",
        "for i, test_sample in enumerate(X_test_final2):\n",
        "    predicted_class = np.dot(test_sample, best_fit_weight2)\n",
        "    predicted_lable = 1\n",
        "\n",
        "    if(predicted_class < 0):\n",
        "      predicted_lable = -1\n",
        "\n",
        "\n",
        "    actual_class_label = y_test_final2[i]  # Access the corresponding actual class label\n",
        "\n",
        "    print(\"Actual class label:\", actual_class_label)\n",
        "    print(\"Predicted class label:\", predicted_lable)\n",
        "\n",
        "    predictions.append(predicted_lable)\n",
        "\n",
        "    print(\"================================\")\n",
        "\n",
        "calculate_accuracy(y_test_final2, predictions)"
      ],
      "metadata": {
        "colab": {
          "base_uri": "https://localhost:8080/"
        },
        "id": "A7H0HZ8zLfV_",
        "outputId": "6521d226-fbb9-4608-fb21-039df524cf24"
      },
      "execution_count": null,
      "outputs": [
        {
          "output_type": "stream",
          "name": "stdout",
          "text": [
            "Actual class label: 1\n",
            "Predicted class label: 1\n",
            "================================\n",
            "Actual class label: 1\n",
            "Predicted class label: 1\n",
            "================================\n",
            "Actual class label: 1\n",
            "Predicted class label: 1\n",
            "================================\n",
            "Actual class label: 1\n",
            "Predicted class label: 1\n",
            "================================\n",
            "Actual class label: 1\n",
            "Predicted class label: 1\n",
            "================================\n",
            "Actual class label: 1\n",
            "Predicted class label: 1\n",
            "================================\n",
            "Actual class label: 1\n",
            "Predicted class label: 1\n",
            "================================\n",
            "Actual class label: 1\n",
            "Predicted class label: 1\n",
            "================================\n",
            "Actual class label: 1\n",
            "Predicted class label: 1\n",
            "================================\n",
            "Actual class label: 1\n",
            "Predicted class label: 1\n",
            "================================\n",
            "Actual class label: -1\n",
            "Predicted class label: -1\n",
            "================================\n",
            "Actual class label: -1\n",
            "Predicted class label: -1\n",
            "================================\n",
            "Actual class label: -1\n",
            "Predicted class label: -1\n",
            "================================\n",
            "Actual class label: -1\n",
            "Predicted class label: -1\n",
            "================================\n",
            "Actual class label: -1\n",
            "Predicted class label: -1\n",
            "================================\n",
            "Actual class label: -1\n",
            "Predicted class label: -1\n",
            "================================\n",
            "Actual class label: -1\n",
            "Predicted class label: -1\n",
            "================================\n",
            "Actual class label: -1\n",
            "Predicted class label: -1\n",
            "================================\n",
            "Actual class label: -1\n",
            "Predicted class label: -1\n",
            "================================\n",
            "Actual class label: -1\n",
            "Predicted class label: -1\n",
            "================================\n",
            "The accuracy of this model is  100.0\n"
          ]
        }
      ]
    },
    {
      "cell_type": "code",
      "source": [
        "# Distinguish between 1st, 2nd and 3rd classes\n",
        "predictions = []\n",
        "\n",
        "for i, test_sample in enumerate(X_test_final):\n",
        "    predicted_class = np.dot(test_sample, best_fit_weight)\n",
        "    # print(predicted_class)\n",
        "    predicted_lable = 0.0\n",
        "\n",
        "    if(predicted_class < 0):\n",
        "      predicted_class = np.dot(test_sample, best_fit_weight2)\n",
        "      if predicted_class > 0:\n",
        "        predicted_lable = 1.0\n",
        "      else:\n",
        "        predicted_lable = 2.0\n",
        "\n",
        "    actual_class_label = y_test_original_lables[i]  # Access the corresponding actual class label\n",
        "    # print(test_sample, predicted_class)\n",
        "    print(\"Actual class label:\", actual_class_label)\n",
        "    print(\"Predicted class label:\", predicted_lable)\n",
        "    predictions.append(predicted_lable)\n",
        "\n",
        "    print(\"================================\")\n",
        "\n",
        "calculate_accuracy(y_test_original_lables, predictions)"
      ],
      "metadata": {
        "colab": {
          "base_uri": "https://localhost:8080/"
        },
        "id": "QUUDMEYc3-0A",
        "outputId": "80c4245c-192d-4653-fe8c-786ba2c09b1e"
      },
      "execution_count": null,
      "outputs": [
        {
          "output_type": "stream",
          "name": "stdout",
          "text": [
            "Actual class label: 0.0\n",
            "Predicted class label: 0.0\n",
            "================================\n",
            "Actual class label: 0.0\n",
            "Predicted class label: 0.0\n",
            "================================\n",
            "Actual class label: 0.0\n",
            "Predicted class label: 0.0\n",
            "================================\n",
            "Actual class label: 0.0\n",
            "Predicted class label: 0.0\n",
            "================================\n",
            "Actual class label: 0.0\n",
            "Predicted class label: 0.0\n",
            "================================\n",
            "Actual class label: 0.0\n",
            "Predicted class label: 0.0\n",
            "================================\n",
            "Actual class label: 0.0\n",
            "Predicted class label: 0.0\n",
            "================================\n",
            "Actual class label: 0.0\n",
            "Predicted class label: 0.0\n",
            "================================\n",
            "Actual class label: 0.0\n",
            "Predicted class label: 0.0\n",
            "================================\n",
            "Actual class label: 0.0\n",
            "Predicted class label: 0.0\n",
            "================================\n",
            "Actual class label: 2.0\n",
            "Predicted class label: 1.0\n",
            "================================\n",
            "Actual class label: 2.0\n",
            "Predicted class label: 2.0\n",
            "================================\n",
            "Actual class label: 2.0\n",
            "Predicted class label: 2.0\n",
            "================================\n",
            "Actual class label: 1.0\n",
            "Predicted class label: 1.0\n",
            "================================\n",
            "Actual class label: 1.0\n",
            "Predicted class label: 1.0\n",
            "================================\n",
            "Actual class label: 1.0\n",
            "Predicted class label: 1.0\n",
            "================================\n",
            "Actual class label: 1.0\n",
            "Predicted class label: 1.0\n",
            "================================\n",
            "Actual class label: 2.0\n",
            "Predicted class label: 2.0\n",
            "================================\n",
            "Actual class label: 1.0\n",
            "Predicted class label: 1.0\n",
            "================================\n",
            "Actual class label: 1.0\n",
            "Predicted class label: 1.0\n",
            "================================\n",
            "Actual class label: 1.0\n",
            "Predicted class label: 1.0\n",
            "================================\n",
            "Actual class label: 1.0\n",
            "Predicted class label: 1.0\n",
            "================================\n",
            "Actual class label: 2.0\n",
            "Predicted class label: 2.0\n",
            "================================\n",
            "Actual class label: 1.0\n",
            "Predicted class label: 2.0\n",
            "================================\n",
            "Actual class label: 2.0\n",
            "Predicted class label: 2.0\n",
            "================================\n",
            "Actual class label: 1.0\n",
            "Predicted class label: 1.0\n",
            "================================\n",
            "Actual class label: 2.0\n",
            "Predicted class label: 2.0\n",
            "================================\n",
            "Actual class label: 2.0\n",
            "Predicted class label: 2.0\n",
            "================================\n",
            "Actual class label: 1.0\n",
            "Predicted class label: 1.0\n",
            "================================\n",
            "Actual class label: 1.0\n",
            "Predicted class label: 1.0\n",
            "================================\n",
            "The accuracy of this model is  93.33333333333333\n"
          ]
        }
      ]
    },
    {
      "cell_type": "code",
      "source": [],
      "metadata": {
        "id": "Lhln8hFwZ6kS"
      },
      "execution_count": null,
      "outputs": []
    }
  ]
}