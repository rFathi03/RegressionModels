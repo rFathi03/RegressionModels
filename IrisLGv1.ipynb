{
  "nbformat": 4,
  "nbformat_minor": 0,
  "metadata": {
    "colab": {
      "provenance": []
    },
    "kernelspec": {
      "name": "python3",
      "display_name": "Python 3"
    },
    "language_info": {
      "name": "python"
    }
  },
  "cells": [
    {
      "cell_type": "code",
      "execution_count": 1,
      "metadata": {
        "id": "12Rr4gCtzDaT"
      },
      "outputs": [],
      "source": [
        "from sklearn.datasets import load_iris\n",
        "from sklearn.model_selection import train_test_split\n",
        "import numpy as np"
      ]
    },
    {
      "cell_type": "code",
      "source": [
        "# Load iris data\n",
        "iris = load_iris()"
      ],
      "metadata": {
        "id": "ns5r860kzMby"
      },
      "execution_count": 2,
      "outputs": []
    },
    {
      "cell_type": "code",
      "source": [
        "X = iris.data\n",
        "y = iris.target # classes labels"
      ],
      "metadata": {
        "id": "EvmBRom7zRda"
      },
      "execution_count": 3,
      "outputs": []
    },
    {
      "cell_type": "code",
      "source": [
        "print(X)\n",
        "X_with_ones = np.c_[np.ones(X.shape[0]), X] # Add ones to the training data\n",
        "print(X_with_ones)"
      ],
      "metadata": {
        "id": "HzQ0Vs5Q3b5Y"
      },
      "execution_count": null,
      "outputs": []
    },
    {
      "cell_type": "code",
      "source": [
        "print(y)\n"
      ],
      "metadata": {
        "colab": {
          "base_uri": "https://localhost:8080/"
        },
        "id": "Iif6OoCt3ipp",
        "outputId": "77ac2c9e-7040-405f-927f-d44a17cbb797"
      },
      "execution_count": 5,
      "outputs": [
        {
          "output_type": "stream",
          "name": "stdout",
          "text": [
            "[0 0 0 0 0 0 0 0 0 0 0 0 0 0 0 0 0 0 0 0 0 0 0 0 0 0 0 0 0 0 0 0 0 0 0 0 0\n",
            " 0 0 0 0 0 0 0 0 0 0 0 0 0 1 1 1 1 1 1 1 1 1 1 1 1 1 1 1 1 1 1 1 1 1 1 1 1\n",
            " 1 1 1 1 1 1 1 1 1 1 1 1 1 1 1 1 1 1 1 1 1 1 1 1 1 1 2 2 2 2 2 2 2 2 2 2 2\n",
            " 2 2 2 2 2 2 2 2 2 2 2 2 2 2 2 2 2 2 2 2 2 2 2 2 2 2 2 2 2 2 2 2 2 2 2 2 2\n",
            " 2 2]\n"
          ]
        }
      ]
    },
    {
      "cell_type": "code",
      "source": [
        "# Combine C2 and C3 to class 2\n",
        "y_new23 = np.where(y == 0, 1, -1)\n",
        "print(y_new23)\n"
      ],
      "metadata": {
        "colab": {
          "base_uri": "https://localhost:8080/"
        },
        "id": "B7e8P7fQzXQB",
        "outputId": "32269a15-e853-4608-c19d-050202750568"
      },
      "execution_count": 6,
      "outputs": [
        {
          "output_type": "stream",
          "name": "stdout",
          "text": [
            "[ 1  1  1  1  1  1  1  1  1  1  1  1  1  1  1  1  1  1  1  1  1  1  1  1\n",
            "  1  1  1  1  1  1  1  1  1  1  1  1  1  1  1  1  1  1  1  1  1  1  1  1\n",
            "  1  1 -1 -1 -1 -1 -1 -1 -1 -1 -1 -1 -1 -1 -1 -1 -1 -1 -1 -1 -1 -1 -1 -1\n",
            " -1 -1 -1 -1 -1 -1 -1 -1 -1 -1 -1 -1 -1 -1 -1 -1 -1 -1 -1 -1 -1 -1 -1 -1\n",
            " -1 -1 -1 -1 -1 -1 -1 -1 -1 -1 -1 -1 -1 -1 -1 -1 -1 -1 -1 -1 -1 -1 -1 -1\n",
            " -1 -1 -1 -1 -1 -1 -1 -1 -1 -1 -1 -1 -1 -1 -1 -1 -1 -1 -1 -1 -1 -1 -1 -1\n",
            " -1 -1 -1 -1 -1 -1]\n"
          ]
        }
      ]
    },
    {
      "cell_type": "code",
      "source": [
        "# Split data into training and test sets\n",
        "\n",
        "# Further split class 1 for training and testing (40 train, 10 test)\n",
        "X_train_C1, X_test_C1, y_train_C1, y_test_C1 = train_test_split(X_with_ones[y_new23 == 1], y_new23[y_new23 == 1], test_size=0.2, random_state=42)\n",
        "print(\"1st Class Dimensionalities\")\n",
        "\n",
        "print(\"Training samples shape \", X_train_C1.shape)\n",
        "print(\"Testing samples shape \", X_test_C1.shape)\n",
        "print(\"Training lables shape \", y_train_C1.shape)\n",
        "print(\"Testing lables shape \", y_test_C1.shape)\n",
        "\n",
        "# Further split class 1 for training and testing (80 train, 20 test)\n",
        "X_train_C2, X_test_C2, y_train_C2, y_test_C2 = train_test_split(X_with_ones[y_new23 == -1], y_new23[y_new23 == -1], test_size=0.2, random_state=42)\n",
        "\n",
        "print(\"================================\")\n",
        "\n",
        "print(\"1st Class Dimensionalities\")\n",
        "print(\"Training samples shape \", X_train_C2.shape)\n",
        "print(\"Testing samples shape \", X_test_C2.shape)\n",
        "print(\"Training lables shape \", y_train_C2.shape)\n",
        "print(\"Testing lables shape \", y_test_C2.shape)"
      ],
      "metadata": {
        "colab": {
          "base_uri": "https://localhost:8080/"
        },
        "id": "isjKqjsl0IjI",
        "outputId": "0b66b2c5-8bb3-49b8-9ff5-013992587b50"
      },
      "execution_count": 7,
      "outputs": [
        {
          "output_type": "stream",
          "name": "stdout",
          "text": [
            "1st Class Dimensionalities\n",
            "Training samples shape  (40, 5)\n",
            "Testing samples shape  (10, 5)\n",
            "Training lables shape  (40,)\n",
            "Testing lables shape  (10,)\n",
            "================================\n",
            "1st Class Dimensionalities\n",
            "Training samples shape  (80, 5)\n",
            "Testing samples shape  (20, 5)\n",
            "Training lables shape  (80,)\n",
            "Testing lables shape  (20,)\n"
          ]
        }
      ]
    },
    {
      "cell_type": "code",
      "source": [
        "from ctypes import sizeof\n",
        "# Combine training data for C1 and C2\n",
        "X_train_final = np.concatenate((X_train_C1, X_train_C2))\n",
        "y_train_final = np.concatenate((y_train_C1, y_train_C2))\n",
        "\n",
        "\n",
        "# Combine testing data for C1 and C2\n",
        "X_test_final = np.concatenate((X_test_C1, X_test_C2))\n",
        "y_test_final = np.concatenate((y_test_C1, y_test_C2))\n",
        "\n",
        "print(\"Training set dimensionality \", X_train_final.shape)\n",
        "print(\"Testing set dimensionality \", X_test_final.shape)\n",
        "\n"
      ],
      "metadata": {
        "colab": {
          "base_uri": "https://localhost:8080/"
        },
        "id": "NNTcXSts72LJ",
        "outputId": "8e2c3e14-6bd7-4048-84e1-474baa86ac02"
      },
      "execution_count": 8,
      "outputs": [
        {
          "output_type": "stream",
          "name": "stdout",
          "text": [
            "Training set dimensionality  (120, 5)\n",
            "Testing set dimensionality  (30, 5)\n"
          ]
        }
      ]
    },
    {
      "cell_type": "code",
      "source": [
        "best_fit_weight = np.linalg.inv(X_train_final.T @ X_train_final) @ X_train_final.T @ y_train_final\n",
        "print(best_fit_weight)\n"
      ],
      "metadata": {
        "colab": {
          "base_uri": "https://localhost:8080/"
        },
        "id": "vfKytwgm5uOS",
        "outputId": "ec316e7d-2898-4fe4-f41a-2e82b747d67c"
      },
      "execution_count": 9,
      "outputs": [
        {
          "output_type": "stream",
          "name": "stdout",
          "text": [
            "[-0.72396059  0.12016826  0.47807312 -0.41859655 -0.16621896]\n"
          ]
        }
      ]
    },
    {
      "cell_type": "code",
      "source": [
        "for i, test_sample in enumerate(X_test_final):\n",
        "    predicted_class = np.dot(test_sample, best_fit_weight)\n",
        "\n",
        "    actual_class_label = y_test_final[i]  # Access the corresponding actual class label\n",
        "\n",
        "    print(\"Actual class label:\", actual_class_label)\n",
        "    print(\"Predicted class label:\", predicted_class)\n",
        "\n",
        "    print(\"================================\")\n",
        "\n",
        "\n"
      ],
      "metadata": {
        "colab": {
          "base_uri": "https://localhost:8080/"
        },
        "id": "X4azryKo6FaB",
        "outputId": "d63081ed-1eac-4ec9-c5e1-0c713f253c60"
      },
      "execution_count": 11,
      "outputs": [
        {
          "output_type": "stream",
          "name": "stdout",
          "text": [
            "Actual class label: 1\n",
            "Predicted class label: 0.7499041861407373\n",
            "================================\n",
            "Actual class label: 1\n",
            "Predicted class label: 0.8532075251700155\n",
            "================================\n",
            "Actual class label: 1\n",
            "Predicted class label: 0.6318754557554689\n",
            "================================\n",
            "Actual class label: 1\n",
            "Predicted class label: 0.6511655580507195\n",
            "================================\n",
            "Actual class label: 1\n",
            "Predicted class label: 0.9262525964405187\n",
            "================================\n",
            "Actual class label: 1\n",
            "Predicted class label: 1.020663113394522\n",
            "================================\n",
            "Actual class label: 1\n",
            "Predicted class label: 0.7660872518350084\n",
            "================================\n",
            "Actual class label: 1\n",
            "Predicted class label: 0.6081017955556569\n",
            "================================\n",
            "Actual class label: 1\n",
            "Predicted class label: 1.2164974319381894\n",
            "================================\n",
            "Actual class label: 1\n",
            "Predicted class label: 1.0278148775218505\n",
            "================================\n",
            "Actual class label: -1\n",
            "Predicted class label: -1.012466673499781\n",
            "================================\n",
            "Actual class label: -1\n",
            "Predicted class label: -1.2238233257956852\n",
            "================================\n",
            "Actual class label: -1\n",
            "Predicted class label: -1.133269569357967\n",
            "================================\n",
            "Actual class label: -1\n",
            "Predicted class label: -0.5623504196568143\n",
            "================================\n",
            "Actual class label: -1\n",
            "Predicted class label: -0.7344110780006701\n",
            "================================\n",
            "Actual class label: -1\n",
            "Predicted class label: -0.7583232176921497\n",
            "================================\n",
            "Actual class label: -1\n",
            "Predicted class label: -1.0721692993442065\n",
            "================================\n",
            "Actual class label: -1\n",
            "Predicted class label: -1.3653657246743096\n",
            "================================\n",
            "Actual class label: -1\n",
            "Predicted class label: -0.7982799435862327\n",
            "================================\n",
            "Actual class label: -1\n",
            "Predicted class label: -0.5530591263834163\n",
            "================================\n",
            "Actual class label: -1\n",
            "Predicted class label: -1.0601694406679518\n",
            "================================\n",
            "Actual class label: -1\n",
            "Predicted class label: -0.6891674271794492\n",
            "================================\n",
            "Actual class label: -1\n",
            "Predicted class label: -1.026420363349497\n",
            "================================\n",
            "Actual class label: -1\n",
            "Predicted class label: -1.112946359537745\n",
            "================================\n",
            "Actual class label: -1\n",
            "Predicted class label: -1.1798727742058905\n",
            "================================\n",
            "Actual class label: -1\n",
            "Predicted class label: -0.77913474540898\n",
            "================================\n",
            "Actual class label: -1\n",
            "Predicted class label: -0.9487702219596448\n",
            "================================\n",
            "Actual class label: -1\n",
            "Predicted class label: -0.9070320789375261\n",
            "================================\n",
            "Actual class label: -1\n",
            "Predicted class label: -0.7917953360272694\n",
            "================================\n",
            "Actual class label: -1\n",
            "Predicted class label: -0.6306858758700593\n",
            "================================\n"
          ]
        }
      ]
    },
    {
      "cell_type": "markdown",
      "source": [
        "# Combine 1st and 2nd Classes"
      ],
      "metadata": {
        "id": "Absfzg_OR2Ut"
      }
    },
    {
      "cell_type": "code",
      "source": [],
      "metadata": {
        "id": "1D6xCcFFR73g"
      },
      "execution_count": null,
      "outputs": []
    }
  ]
}